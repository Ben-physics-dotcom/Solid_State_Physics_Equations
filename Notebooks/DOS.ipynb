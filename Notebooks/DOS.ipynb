{
 "cells": [
  {
   "cell_type": "markdown",
   "id": "edb75dbf",
   "metadata": {},
   "source": [
    "# Imports"
   ]
  },
  {
   "cell_type": "code",
   "execution_count": 1,
   "id": "ff93172a",
   "metadata": {},
   "outputs": [],
   "source": [
    "%run Imports.ipynb"
   ]
  },
  {
   "cell_type": "code",
   "execution_count": 6,
   "id": "2fc6bcda",
   "metadata": {},
   "outputs": [],
   "source": [
    "s = np.arange(1, 11)\n",
    "L = 15\n",
    "K = s * np.pi / L\n",
    "a = L / 11\n",
    "u0 = 1.5 * a\n",
    "omega = 0.01256\n",
    "def u(t):\n",
    "    return u0 * np.sin(s*K*a) * np.exp(1j * (omega * t))"
   ]
  },
  {
   "cell_type": "code",
   "execution_count": 10,
   "id": "662fab06",
   "metadata": {},
   "outputs": [],
   "source": [
    "t = np.linspace(0, 500, 1000)\n",
    "lst_U = []\n",
    "for t in t:\n",
    "    lst_U.append((u(t)).real)\n",
    "U = np.array(lst_U)"
   ]
  },
  {
   "cell_type": "code",
   "execution_count": 11,
   "id": "add3feff",
   "metadata": {},
   "outputs": [
    {
     "data": {
      "text/plain": [
       "array([[ 0.57627114,  1.8606109 ,  1.10585622, ..., -1.10585622,\n",
       "        -1.8606109 , -0.57627114],\n",
       "       [ 0.57625975,  1.86057414,  1.10583437, ..., -1.10583437,\n",
       "        -1.86057414, -0.57625975],\n",
       "       [ 0.57622559,  1.86046385,  1.10576882, ..., -1.10576882,\n",
       "        -1.86046385, -0.57622559],\n",
       "       ...,\n",
       "       [ 0.57619959,  1.8603799 ,  1.10571892, ..., -1.10571892,\n",
       "        -1.8603799 , -0.57619959],\n",
       "       [ 0.57624529,  1.86052744,  1.10580661, ..., -1.10580661,\n",
       "        -1.86052744, -0.57624529],\n",
       "       [ 0.57626822,  1.86060146,  1.10585061, ..., -1.10585061,\n",
       "        -1.86060146, -0.57626822]], shape=(1000, 10))"
      ]
     },
     "execution_count": 11,
     "metadata": {},
     "output_type": "execute_result"
    }
   ],
   "source": [
    "U"
   ]
  }
 ],
 "metadata": {
  "kernelspec": {
   "display_name": "BA",
   "language": "python",
   "name": "python3"
  },
  "language_info": {
   "codemirror_mode": {
    "name": "ipython",
    "version": 3
   },
   "file_extension": ".py",
   "mimetype": "text/x-python",
   "name": "python",
   "nbconvert_exporter": "python",
   "pygments_lexer": "ipython3",
   "version": "3.10.16"
  }
 },
 "nbformat": 4,
 "nbformat_minor": 5
}
